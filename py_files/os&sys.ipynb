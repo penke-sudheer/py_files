{
 "cells": [
  {
   "cell_type": "code",
   "execution_count": 2,
   "id": "560f071c",
   "metadata": {},
   "outputs": [],
   "source": [
    "import os "
   ]
  },
  {
   "cell_type": "code",
   "execution_count": 3,
   "id": "f644a395",
   "metadata": {},
   "outputs": [],
   "source": [
    "os.mkdir(\"full_code\")"
   ]
  },
  {
   "cell_type": "code",
   "execution_count": 4,
   "id": "aa485de0",
   "metadata": {},
   "outputs": [],
   "source": [
    "os.rmdir(\"full_code\")"
   ]
  },
  {
   "cell_type": "code",
   "execution_count": 6,
   "id": "2026366e",
   "metadata": {},
   "outputs": [
    {
     "ename": "FileNotFoundError",
     "evalue": "[WinError 2] The system cannot find the file specified: 'newfolder'",
     "output_type": "error",
     "traceback": [
      "\u001b[31m---------------------------------------------------------------------------\u001b[39m",
      "\u001b[31mFileNotFoundError\u001b[39m                         Traceback (most recent call last)",
      "\u001b[36mCell\u001b[39m\u001b[36m \u001b[39m\u001b[32mIn[6]\u001b[39m\u001b[32m, line 1\u001b[39m\n\u001b[32m----> \u001b[39m\u001b[32m1\u001b[39m \u001b[43mos\u001b[49m\u001b[43m.\u001b[49m\u001b[43mrmdir\u001b[49m\u001b[43m(\u001b[49m\u001b[33;43m'\u001b[39;49m\u001b[33;43mnewfolder\u001b[39;49m\u001b[33;43m'\u001b[39;49m\u001b[43m)\u001b[49m\n",
      "\u001b[31mFileNotFoundError\u001b[39m: [WinError 2] The system cannot find the file specified: 'newfolder'"
     ]
    }
   ],
   "source": [
    "os.rmdir('newfolder')"
   ]
  },
  {
   "cell_type": "code",
   "execution_count": 7,
   "id": "c3d6d3c0",
   "metadata": {},
   "outputs": [],
   "source": [
    "os.rename('pp','txt_folder')"
   ]
  },
  {
   "cell_type": "code",
   "execution_count": 11,
   "id": "265d60d0",
   "metadata": {},
   "outputs": [],
   "source": [
    "import sys\n",
    "\n",
    "sys.path.append(r\"D:\\python_end_to_end\\fills\")"
   ]
  },
  {
   "cell_type": "code",
   "execution_count": 12,
   "id": "cae2232e",
   "metadata": {},
   "outputs": [],
   "source": [
    "import clld as x\n",
    "\n",
    "emp1=x.Employee('penke','sudheer',28)"
   ]
  },
  {
   "cell_type": "code",
   "execution_count": 13,
   "id": "503552d1",
   "metadata": {},
   "outputs": [
    {
     "data": {
      "text/plain": [
       "'penkesudheer'"
      ]
     },
     "execution_count": 13,
     "metadata": {},
     "output_type": "execute_result"
    }
   ],
   "source": [
    "emp1.full_name()"
   ]
  },
  {
   "cell_type": "code",
   "execution_count": 14,
   "id": "ef4313f7",
   "metadata": {},
   "outputs": [
    {
     "data": {
      "text/plain": [
       "28"
      ]
     },
     "execution_count": 14,
     "metadata": {},
     "output_type": "execute_result"
    }
   ],
   "source": [
    "emp1.age"
   ]
  },
  {
   "cell_type": "code",
   "execution_count": null,
   "id": "fa2fcc90",
   "metadata": {},
   "outputs": [],
   "source": []
  },
  {
   "cell_type": "code",
   "execution_count": null,
   "id": "48471d94",
   "metadata": {},
   "outputs": [],
   "source": []
  },
  {
   "cell_type": "code",
   "execution_count": null,
   "id": "d20f08f7",
   "metadata": {},
   "outputs": [],
   "source": []
  },
  {
   "cell_type": "code",
   "execution_count": null,
   "id": "547c653a",
   "metadata": {},
   "outputs": [],
   "source": []
  }
 ],
 "metadata": {
  "kernelspec": {
   "display_name": ".venv",
   "language": "python",
   "name": "python3"
  },
  "language_info": {
   "codemirror_mode": {
    "name": "ipython",
    "version": 3
   },
   "file_extension": ".py",
   "mimetype": "text/x-python",
   "name": "python",
   "nbconvert_exporter": "python",
   "pygments_lexer": "ipython3",
   "version": "3.13.2"
  }
 },
 "nbformat": 4,
 "nbformat_minor": 5
}
